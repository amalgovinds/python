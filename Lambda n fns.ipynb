{
 "cells": [
  {
   "cell_type": "code",
   "execution_count": 33,
   "id": "8a56a6bc",
   "metadata": {},
   "outputs": [],
   "source": [
    "def sq(nums):\n",
    "    return nums**2"
   ]
  },
  {
   "cell_type": "code",
   "execution_count": 34,
   "id": "67c11f6c",
   "metadata": {},
   "outputs": [],
   "source": [
    "num=[1,2,3,4,5,6,7]"
   ]
  },
  {
   "cell_type": "code",
   "execution_count": 35,
   "id": "45c1dae2",
   "metadata": {},
   "outputs": [
    {
     "data": {
      "text/plain": [
       "[1, 4, 9, 16, 25, 36, 49]"
      ]
     },
     "execution_count": 35,
     "metadata": {},
     "output_type": "execute_result"
    }
   ],
   "source": [
    "list(map(sq,num))"
   ]
  },
  {
   "cell_type": "code",
   "execution_count": 37,
   "id": "50630a1e",
   "metadata": {},
   "outputs": [
    {
     "name": "stdout",
     "output_type": "stream",
     "text": [
      "1\n",
      "4\n",
      "9\n",
      "16\n",
      "25\n",
      "36\n",
      "49\n"
     ]
    }
   ],
   "source": [
    "#maps a fn toa list of iterables\n",
    "for item in map(sq,num):\n",
    "    print(item)"
   ]
  },
  {
   "cell_type": "code",
   "execution_count": 42,
   "id": "e203a96d",
   "metadata": {},
   "outputs": [],
   "source": [
    "def splicer(str):\n",
    "    if len(str)%2==0:\n",
    "        return 'Even'\n",
    "    else:\n",
    "        return str[0]"
   ]
  },
  {
   "cell_type": "code",
   "execution_count": 43,
   "id": "2daa88b7",
   "metadata": {},
   "outputs": [],
   "source": [
    "nm=['Amal','Baabs','Srejith']"
   ]
  },
  {
   "cell_type": "code",
   "execution_count": 45,
   "id": "28f7848f",
   "metadata": {},
   "outputs": [
    {
     "data": {
      "text/plain": [
       "['Even', 'B', 'S']"
      ]
     },
     "execution_count": 45,
     "metadata": {},
     "output_type": "execute_result"
    }
   ],
   "source": [
    "list(map(splicer,nm))"
   ]
  },
  {
   "cell_type": "code",
   "execution_count": 46,
   "id": "719dba66",
   "metadata": {},
   "outputs": [],
   "source": [
    "def chk_even(num):\n",
    "    return num%2==0"
   ]
  },
  {
   "cell_type": "code",
   "execution_count": 50,
   "id": "9e07986d",
   "metadata": {},
   "outputs": [],
   "source": [
    "number=[1,2,3,4,5,6]"
   ]
  },
  {
   "cell_type": "code",
   "execution_count": 53,
   "id": "4fed2cd8",
   "metadata": {},
   "outputs": [
    {
     "name": "stdout",
     "output_type": "stream",
     "text": [
      "2\n",
      "4\n",
      "6\n"
     ]
    }
   ],
   "source": [
    "#returns the value for which fn is true\n",
    "for n in filter(chk_even,number):\n",
    "    print(n)"
   ]
  },
  {
   "cell_type": "code",
   "execution_count": 57,
   "id": "9b047af6",
   "metadata": {},
   "outputs": [],
   "source": [
    "square=lambda num: num**2"
   ]
  },
  {
   "cell_type": "code",
   "execution_count": 58,
   "id": "a1d49853",
   "metadata": {},
   "outputs": [
    {
     "data": {
      "text/plain": [
       "9"
      ]
     },
     "execution_count": 58,
     "metadata": {},
     "output_type": "execute_result"
    }
   ],
   "source": [
    "square(3)\n"
   ]
  },
  {
   "cell_type": "code",
   "execution_count": 61,
   "id": "c3d27ec0",
   "metadata": {},
   "outputs": [],
   "source": [
    "mlist=[1,2,3]"
   ]
  },
  {
   "cell_type": "code",
   "execution_count": 64,
   "id": "c7b84b74",
   "metadata": {},
   "outputs": [
    {
     "data": {
      "text/plain": [
       "[1, 4, 9]"
      ]
     },
     "execution_count": 64,
     "metadata": {},
     "output_type": "execute_result"
    }
   ],
   "source": [
    "list(map(lambda num:num**2,mlist))"
   ]
  },
  {
   "cell_type": "code",
   "execution_count": 65,
   "id": "410e616d",
   "metadata": {},
   "outputs": [
    {
     "data": {
      "text/plain": [
       "[2]"
      ]
     },
     "execution_count": 65,
     "metadata": {},
     "output_type": "execute_result"
    }
   ],
   "source": [
    "list(filter(lambda num:num%2==0,mlist ))"
   ]
  },
  {
   "cell_type": "code",
   "execution_count": 67,
   "id": "61efdf72",
   "metadata": {},
   "outputs": [
    {
     "data": {
      "text/plain": [
       "['lamA', 'sbaaB', 'htijerS']"
      ]
     },
     "execution_count": 67,
     "metadata": {},
     "output_type": "execute_result"
    }
   ],
   "source": [
    "list(map(lambda x:x[::-1],nm))"
   ]
  },
  {
   "cell_type": "markdown",
   "id": "a9eb6492",
   "metadata": {},
   "source": [
    "Lambda basically used for a oneliner fn to be used only once"
   ]
  },
  {
   "cell_type": "code",
   "execution_count": 68,
   "id": "4245bb23",
   "metadata": {},
   "outputs": [],
   "source": [
    "x=25\n",
    "def printer():\n",
    "    x=50\n",
    "    return x"
   ]
  },
  {
   "cell_type": "code",
   "execution_count": 69,
   "id": "ad1155bd",
   "metadata": {},
   "outputs": [
    {
     "name": "stdout",
     "output_type": "stream",
     "text": [
      "25\n"
     ]
    }
   ],
   "source": [
    "print(x)"
   ]
  },
  {
   "cell_type": "code",
   "execution_count": 71,
   "id": "8c0d667c",
   "metadata": {},
   "outputs": [
    {
     "name": "stdout",
     "output_type": "stream",
     "text": [
      "50\n"
     ]
    }
   ],
   "source": [
    "print(printer())"
   ]
  },
  {
   "cell_type": "code",
   "execution_count": 72,
   "id": "36cb3a15",
   "metadata": {},
   "outputs": [
    {
     "name": "stdout",
     "output_type": "stream",
     "text": [
      "25\n"
     ]
    }
   ],
   "source": [
    "print(x)"
   ]
  },
  {
   "cell_type": "code",
   "execution_count": 80,
   "id": "1c873f73",
   "metadata": {},
   "outputs": [
    {
     "name": "stdout",
     "output_type": "stream",
     "text": [
      "Hello S\n",
      "Yo Govind\n",
      "Hi Amal\n"
     ]
    }
   ],
   "source": [
    "#global\n",
    "name='Amal'\n",
    "def greet():\n",
    "    #enclosing\n",
    "    name='Govind'\n",
    "    def hello():\n",
    "        #local\n",
    "        name='S'\n",
    "        print('Hello '+name)\n",
    "    hello()\n",
    "    print('Yo '+name)\n",
    "greet()\n",
    "print('Hi '+ name)"
   ]
  },
  {
   "cell_type": "markdown",
   "id": "0374aa6f",
   "metadata": {},
   "source": [
    "Only lvl above global is built in "
   ]
  },
  {
   "cell_type": "code",
   "execution_count": 83,
   "id": "a8ab2fff",
   "metadata": {},
   "outputs": [
    {
     "name": "stdout",
     "output_type": "stream",
     "text": [
      "X is 50\n",
      "X is changed to 69 globally\n",
      "69\n"
     ]
    }
   ],
   "source": [
    "x=50\n",
    "def fn():\n",
    "    #static in java\n",
    "    global x\n",
    "    print(f'X is {x}')\n",
    "    x=69\n",
    "    print(f'X is changed to {x} globally')\n",
    "fn()\n",
    "print(x)"
   ]
  },
  {
   "cell_type": "code",
   "execution_count": 89,
   "id": "648f5d84",
   "metadata": {},
   "outputs": [
    {
     "name": "stdout",
     "output_type": "stream",
     "text": [
      "X is 50\n",
      "X is changed to 69 globally\n",
      "69\n"
     ]
    }
   ],
   "source": [
    "#PREFFERRED METHOD->Easier to DebuG\n",
    "x=50\n",
    "def fn(x):\n",
    "    #static in java\n",
    "    print(f'X is {x}')\n",
    "    x=69\n",
    "    print(f'X is changed to {x} globally')\n",
    "    return x\n",
    "x=fn(x)\n",
    "print(x)  "
   ]
  },
  {
   "cell_type": "code",
   "execution_count": 93,
   "id": "cc8a76e8",
   "metadata": {},
   "outputs": [
    {
     "name": "stdout",
     "output_type": "stream",
     "text": [
      "Number of Uppercase characters is 3\n",
      "Number of Lowercase characters is 8\n"
     ]
    }
   ],
   "source": [
    "def up_low(s):\n",
    "    lc=0\n",
    "    uc=0\n",
    "    for char in s:\n",
    "        if char.isupper():\n",
    "            uc+=1\n",
    "        elif char.islower():\n",
    "            lc+=1\n",
    "        else:\n",
    "            pass\n",
    "    print(f'Number of Uppercase characters is {uc}')\n",
    "    print(f'Number of Lowercase characters is {lc}')\n",
    "up_low('Amal Govind S') "
   ]
  },
  {
   "cell_type": "code",
   "execution_count": 98,
   "id": "3a950a95",
   "metadata": {},
   "outputs": [],
   "source": [
    "import string\n",
    "def ispangram(str1,alphabet=string.ascii_lowercase):\n",
    "    #set of lowercase aplhabets\n",
    "    alphaset=set(alphabet)\n",
    "    #removes spaces\n",
    "    str1=str1.replace(' ','')\n",
    "    #string to lower cases\n",
    "    str1=str1.lower()\n",
    "    #store as set => Only unique values\n",
    "    str1=set(str1)\n",
    "    #check if sets are equal\n",
    "    return str1==alphaset"
   ]
  },
  {
   "cell_type": "code",
   "execution_count": 100,
   "id": "a574a39f",
   "metadata": {},
   "outputs": [
    {
     "data": {
      "text/plain": [
       "True"
      ]
     },
     "execution_count": 100,
     "metadata": {},
     "output_type": "execute_result"
    }
   ],
   "source": [
    "ispangram('The quick brown fox jumps over the lazy dog')"
   ]
  },
  {
   "cell_type": "code",
   "execution_count": 101,
   "id": "2448662e",
   "metadata": {},
   "outputs": [
    {
     "data": {
      "text/plain": [
       "False"
      ]
     },
     "execution_count": 101,
     "metadata": {},
     "output_type": "execute_result"
    }
   ],
   "source": [
    "ispangram('Not all aplhabets are there')"
   ]
  }
 ],
 "metadata": {
  "kernelspec": {
   "display_name": "Python 3 (ipykernel)",
   "language": "python",
   "name": "python3"
  },
  "language_info": {
   "codemirror_mode": {
    "name": "ipython",
    "version": 3
   },
   "file_extension": ".py",
   "mimetype": "text/x-python",
   "name": "python",
   "nbconvert_exporter": "python",
   "pygments_lexer": "ipython3",
   "version": "3.11.3"
  }
 },
 "nbformat": 4,
 "nbformat_minor": 5
}
