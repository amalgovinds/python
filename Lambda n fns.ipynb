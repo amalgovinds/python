{
 "cells": [
  {
   "cell_type": "code",
   "execution_count": 33,
   "id": "b55f6aaf",
   "metadata": {},
   "outputs": [],
   "source": [
    "def sq(nums):\n",
    "    return nums**2"
   ]
  },
  {
   "cell_type": "code",
   "execution_count": 34,
   "id": "3062acaa",
   "metadata": {},
   "outputs": [],
   "source": [
    "num=[1,2,3,4,5,6,7]"
   ]
  },
  {
   "cell_type": "code",
   "execution_count": 35,
   "id": "41bfff19",
   "metadata": {},
   "outputs": [
    {
     "data": {
      "text/plain": [
       "[1, 4, 9, 16, 25, 36, 49]"
      ]
     },
     "execution_count": 35,
     "metadata": {},
     "output_type": "execute_result"
    }
   ],
   "source": [
    "list(map(sq,num))"
   ]
  },
  {
   "cell_type": "code",
   "execution_count": 37,
   "id": "60565099",
   "metadata": {},
   "outputs": [
    {
     "name": "stdout",
     "output_type": "stream",
     "text": [
      "1\n",
      "4\n",
      "9\n",
      "16\n",
      "25\n",
      "36\n",
      "49\n"
     ]
    }
   ],
   "source": [
    "#maps a fn toa list of iterables\n",
    "for item in map(sq,num):\n",
    "    print(item)"
   ]
  },
  {
   "cell_type": "code",
   "execution_count": 42,
   "id": "9a1c5c76",
   "metadata": {},
   "outputs": [],
   "source": [
    "def splicer(str):\n",
    "    if len(str)%2==0:\n",
    "        return 'Even'\n",
    "    else:\n",
    "        return str[0]"
   ]
  },
  {
   "cell_type": "code",
   "execution_count": 43,
   "id": "51d34e4b",
   "metadata": {},
   "outputs": [],
   "source": [
    "nm=['Amal','Baabs','Srejith']"
   ]
  },
  {
   "cell_type": "code",
   "execution_count": 45,
   "id": "b5baa82a",
   "metadata": {},
   "outputs": [
    {
     "data": {
      "text/plain": [
       "['Even', 'B', 'S']"
      ]
     },
     "execution_count": 45,
     "metadata": {},
     "output_type": "execute_result"
    }
   ],
   "source": [
    "list(map(splicer,nm))"
   ]
  },
  {
   "cell_type": "code",
   "execution_count": 46,
   "id": "4174c22b",
   "metadata": {},
   "outputs": [],
   "source": [
    "def chk_even(num):\n",
    "    return num%2==0"
   ]
  },
  {
   "cell_type": "code",
   "execution_count": 50,
   "id": "2b834de5",
   "metadata": {},
   "outputs": [],
   "source": [
    "number=[1,2,3,4,5,6]"
   ]
  },
  {
   "cell_type": "code",
   "execution_count": 53,
   "id": "2e7c2427",
   "metadata": {},
   "outputs": [
    {
     "name": "stdout",
     "output_type": "stream",
     "text": [
      "2\n",
      "4\n",
      "6\n"
     ]
    }
   ],
   "source": [
    "#returns the value for which fn is true\n",
    "for n in filter(chk_even,number):\n",
    "    print(n)"
   ]
  },
  {
   "cell_type": "code",
   "execution_count": 57,
   "id": "3bc5ffcb",
   "metadata": {},
   "outputs": [],
   "source": [
    "square=lambda num: num**2"
   ]
  },
  {
   "cell_type": "code",
   "execution_count": 58,
   "id": "578678f2",
   "metadata": {},
   "outputs": [
    {
     "data": {
      "text/plain": [
       "9"
      ]
     },
     "execution_count": 58,
     "metadata": {},
     "output_type": "execute_result"
    }
   ],
   "source": [
    "square(3)\n"
   ]
  },
  {
   "cell_type": "code",
   "execution_count": 61,
   "id": "c014e6e9",
   "metadata": {},
   "outputs": [],
   "source": [
    "mlist=[1,2,3]"
   ]
  },
  {
   "cell_type": "code",
   "execution_count": 64,
   "id": "d184245b",
   "metadata": {},
   "outputs": [
    {
     "data": {
      "text/plain": [
       "[1, 4, 9]"
      ]
     },
     "execution_count": 64,
     "metadata": {},
     "output_type": "execute_result"
    }
   ],
   "source": [
    "list(map(lambda num:num**2,mlist))"
   ]
  },
  {
   "cell_type": "code",
   "execution_count": 65,
   "id": "2c88335f",
   "metadata": {},
   "outputs": [
    {
     "data": {
      "text/plain": [
       "[2]"
      ]
     },
     "execution_count": 65,
     "metadata": {},
     "output_type": "execute_result"
    }
   ],
   "source": [
    "list(filter(lambda num:num%2==0,mlist ))"
   ]
  },
  {
   "cell_type": "code",
   "execution_count": 67,
   "id": "c6f71da2",
   "metadata": {},
   "outputs": [
    {
     "data": {
      "text/plain": [
       "['lamA', 'sbaaB', 'htijerS']"
      ]
     },
     "execution_count": 67,
     "metadata": {},
     "output_type": "execute_result"
    }
   ],
   "source": [
    "list(map(lambda x:x[::-1],nm))"
   ]
  },
  {
   "cell_type": "markdown",
   "id": "dbab1018",
   "metadata": {},
   "source": [
    "Lambda basically used for a oneliner fn to be used only once"
   ]
  },
  {
   "cell_type": "code",
   "execution_count": 68,
   "id": "70271163",
   "metadata": {},
   "outputs": [],
   "source": [
    "x=25\n",
    "def printer():\n",
    "    x=50\n",
    "    return x"
   ]
  },
  {
   "cell_type": "code",
   "execution_count": 69,
   "id": "20cf6988",
   "metadata": {},
   "outputs": [
    {
     "name": "stdout",
     "output_type": "stream",
     "text": [
      "25\n"
     ]
    }
   ],
   "source": [
    "print(x)"
   ]
  },
  {
   "cell_type": "code",
   "execution_count": 71,
   "id": "8c2414b7",
   "metadata": {},
   "outputs": [
    {
     "name": "stdout",
     "output_type": "stream",
     "text": [
      "50\n"
     ]
    }
   ],
   "source": [
    "print(printer())"
   ]
  },
  {
   "cell_type": "code",
   "execution_count": 72,
   "id": "e6e784d3",
   "metadata": {},
   "outputs": [
    {
     "name": "stdout",
     "output_type": "stream",
     "text": [
      "25\n"
     ]
    }
   ],
   "source": [
    "print(x)"
   ]
  },
  {
   "cell_type": "code",
   "execution_count": 80,
   "id": "52326dd8",
   "metadata": {},
   "outputs": [
    {
     "name": "stdout",
     "output_type": "stream",
     "text": [
      "Hello S\n",
      "Yo Govind\n",
      "Hi Amal\n"
     ]
    }
   ],
   "source": [
    "#global\n",
    "name='Amal'\n",
    "def greet():\n",
    "    #enclosing\n",
    "    name='Govind'\n",
    "    def hello():\n",
    "        #local\n",
    "        name='S'\n",
    "        print('Hello '+name)\n",
    "    hello()\n",
    "    print('Yo '+name)\n",
    "greet()\n",
    "print('Hi '+ name)"
   ]
  },
  {
   "cell_type": "markdown",
   "id": "74ea2480",
   "metadata": {},
   "source": [
    "Only lvl above global is built in "
   ]
  },
  {
   "cell_type": "code",
   "execution_count": 83,
   "id": "eb26d01a",
   "metadata": {},
   "outputs": [
    {
     "name": "stdout",
     "output_type": "stream",
     "text": [
      "X is 50\n",
      "X is changed to 69 globally\n",
      "69\n"
     ]
    }
   ],
   "source": [
    "x=50\n",
    "def fn():\n",
    "    #static in java\n",
    "    global x\n",
    "    print(f'X is {x}')\n",
    "    x=69\n",
    "    print(f'X is changed to {x} globally')\n",
    "fn()\n",
    "print(x)"
   ]
  },
  {
   "cell_type": "code",
   "execution_count": 89,
   "id": "8c9398d8",
   "metadata": {},
   "outputs": [
    {
     "name": "stdout",
     "output_type": "stream",
     "text": [
      "X is 50\n",
      "X is changed to 69 globally\n",
      "69\n"
     ]
    }
   ],
   "source": [
    "#PREFFERRED METHOD->Easier to DebuG\n",
    "x=50\n",
    "def fn(x):\n",
    "    #static in java\n",
    "    print(f'X is {x}')\n",
    "    x=69\n",
    "    print(f'X is changed to {x} globally')\n",
    "    return x\n",
    "x=fn(x)\n",
    "print(x)  "
   ]
  },
  {
   "cell_type": "code",
   "execution_count": 93,
   "id": "ec8261b9",
   "metadata": {},
   "outputs": [
    {
     "name": "stdout",
     "output_type": "stream",
     "text": [
      "Number of Uppercase characters is 3\n",
      "Number of Lowercase characters is 8\n"
     ]
    }
   ],
   "source": [
    "def up_low(s):\n",
    "    lc=0\n",
    "    uc=0\n",
    "    for char in s:\n",
    "        if char.isupper():\n",
    "            uc+=1\n",
    "        elif char.islower():\n",
    "            lc+=1\n",
    "        else:\n",
    "            pass\n",
    "    print(f'Number of Uppercase characters is {uc}')\n",
    "    print(f'Number of Lowercase characters is {lc}')\n",
    "up_low('Amal Govind S') "
   ]
  },
  {
   "cell_type": "code",
   "execution_count": 98,
   "id": "6ca493e5",
   "metadata": {},
   "outputs": [],
   "source": [
    "import string\n",
    "def ispangram(str1,alphabet=string.ascii_lowercase):\n",
    "    #set of lowercase aplhabets\n",
    "    alphaset=set(alphabet)\n",
    "    #removes spaces\n",
    "    str1=str1.replace(' ','')\n",
    "    #string to lower cases\n",
    "    str1=str1.lower()\n",
    "    #store as set => Only unique values\n",
    "    str1=set(str1)\n",
    "    #check if sets are equal\n",
    "    return str1==alphaset"
   ]
  },
  {
   "cell_type": "code",
   "execution_count": 100,
   "id": "96983171",
   "metadata": {},
   "outputs": [
    {
     "data": {
      "text/plain": [
       "True"
      ]
     },
     "execution_count": 100,
     "metadata": {},
     "output_type": "execute_result"
    }
   ],
   "source": [
    "ispangram('The quick brown fox jumps over the lazy dog')"
   ]
  },
  {
   "cell_type": "code",
   "execution_count": 101,
   "id": "a1cdce61",
   "metadata": {},
   "outputs": [
    {
     "data": {
      "text/plain": [
       "False"
      ]
     },
     "execution_count": 101,
     "metadata": {},
     "output_type": "execute_result"
    }
   ],
   "source": [
    "ispangram('Not all aplhabets are there')"
   ]
  }
 ],
 "metadata": {
  "kernelspec": {
   "display_name": "Python 3 (ipykernel)",
   "language": "python",
   "name": "python3"
  },
  "language_info": {
   "codemirror_mode": {
    "name": "ipython",
    "version": 3
   },
   "file_extension": ".py",
   "mimetype": "text/x-python",
   "name": "python",
   "nbconvert_exporter": "python",
   "pygments_lexer": "ipython3",
   "version": "3.11.3"
  }
 },
 "nbformat": 4,
 "nbformat_minor": 5
}
