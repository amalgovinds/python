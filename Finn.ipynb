{
 "cells": [
  {
   "cell_type": "code",
   "execution_count": 2,
   "id": "d9300d48",
   "metadata": {},
   "outputs": [],
   "source": [
    "def myFn(*args):\n",
    "    return sum(args)"
   ]
  },
  {
   "cell_type": "code",
   "execution_count": 3,
   "id": "938f8564",
   "metadata": {},
   "outputs": [
    {
     "data": {
      "text/plain": [
       "181"
      ]
     },
     "execution_count": 3,
     "metadata": {},
     "output_type": "execute_result"
    }
   ],
   "source": [
    "myFn(10,10,23,23,46,69)"
   ]
  },
  {
   "cell_type": "code",
   "execution_count": 10,
   "id": "acc17afc",
   "metadata": {},
   "outputs": [],
   "source": [
    "def nyFunc(**kwargs):\n",
    "    if('fruit' in  kwargs):\n",
    "        print('Fruit is {}'.format(kwargs['fruit']))\n",
    "    else:\n",
    "        print('No fruit')"
   ]
  },
  {
   "cell_type": "code",
   "execution_count": 16,
   "id": "f490a824",
   "metadata": {},
   "outputs": [
    {
     "name": "stdout",
     "output_type": "stream",
     "text": [
      "Fruit is apple\n"
     ]
    }
   ],
   "source": [
    "nyFunc(fruit='apple',veggies='lettuce')"
   ]
  },
  {
   "cell_type": "code",
   "execution_count": 18,
   "id": "09732ecf",
   "metadata": {},
   "outputs": [
    {
     "name": "stdout",
     "output_type": "stream",
     "text": [
      "No fruit\n"
     ]
    }
   ],
   "source": [
    "nyFunc(veggies='lettuce')"
   ]
  },
  {
   "cell_type": "code",
   "execution_count": 23,
   "id": "335903ab",
   "metadata": {},
   "outputs": [],
   "source": [
    "def myFunc(*args,**kwargs):\n",
    "    print(args)\n",
    "    print(kwargs)\n",
    "    print('I waouls like {} {}'.format(args[0],kwargs['food']))"
   ]
  },
  {
   "cell_type": "code",
   "execution_count": 24,
   "id": "20a5411b",
   "metadata": {},
   "outputs": [
    {
     "name": "stdout",
     "output_type": "stream",
     "text": [
      "(10, 20, 30)\n",
      "{'food': 'eggs', 'fruit': 'apple', 'veggies': 'potato'}\n",
      "I waouls like 10 eggs\n"
     ]
    }
   ],
   "source": [
    "myFunc(10,20,30,food='eggs',fruit='apple',veggies='potato')"
   ]
  },
  {
   "cell_type": "code",
   "execution_count": null,
   "id": "af8ede84",
   "metadata": {},
   "outputs": [],
   "source": []
  }
 ],
 "metadata": {
  "kernelspec": {
   "display_name": "Python 3 (ipykernel)",
   "language": "python",
   "name": "python3"
  },
  "language_info": {
   "codemirror_mode": {
    "name": "ipython",
    "version": 3
   },
   "file_extension": ".py",
   "mimetype": "text/x-python",
   "name": "python",
   "nbconvert_exporter": "python",
   "pygments_lexer": "ipython3",
   "version": "3.11.3"
  }
 },
 "nbformat": 4,
 "nbformat_minor": 5
}
