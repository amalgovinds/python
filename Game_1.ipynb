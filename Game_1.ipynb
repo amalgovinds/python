{
 "cells": [
  {
   "cell_type": "code",
   "execution_count": 1,
   "id": "8a8ac20a",
   "metadata": {},
   "outputs": [],
   "source": [
    "game_list=[0,1,2]    "
   ]
  },
  {
   "cell_type": "code",
   "execution_count": 26,
   "id": "bc5e4c5c",
   "metadata": {},
   "outputs": [],
   "source": [
    "def display(g_l):\n",
    "    print('Current list')\n",
    "    print(g_l)"
   ]
  },
  {
   "cell_type": "code",
   "execution_count": 3,
   "id": "923ad25c",
   "metadata": {},
   "outputs": [
    {
     "name": "stdout",
     "output_type": "stream",
     "text": [
      "Current list\n",
      "[0, 1, 2]\n"
     ]
    }
   ],
   "source": [
    "display(game_list)"
   ]
  },
  {
   "cell_type": "code",
   "execution_count": 27,
   "id": "9407ba43",
   "metadata": {},
   "outputs": [],
   "source": [
    "def usr_choice():\n",
    "    choice='Wrong'\n",
    "    while choice not in ['0','1','2']:\n",
    "        choice=input(\"Enter position index (0,1,2): \")\n",
    "        if choice not in ['0','1','2']:\n",
    "            print(\"Sry, invalid choice\")\n",
    "    return int(choice)"
   ]
  },
  {
   "cell_type": "code",
   "execution_count": 5,
   "id": "c7b3be59",
   "metadata": {},
   "outputs": [
    {
     "name": "stdout",
     "output_type": "stream",
     "text": [
      "Enter position index (0,1,2): 6\n",
      "Sry, invalid choice\n",
      "Enter position index (0,1,2): llool\n",
      "Sry, invalid choice\n",
      "Enter position index (0,1,2): 1\n"
     ]
    },
    {
     "data": {
      "text/plain": [
       "'1'"
      ]
     },
     "execution_count": 5,
     "metadata": {},
     "output_type": "execute_result"
    }
   ],
   "source": [
    "usr_choice()"
   ]
  },
  {
   "cell_type": "code",
   "execution_count": 28,
   "id": "79374706",
   "metadata": {},
   "outputs": [],
   "source": [
    "def replace(g_l,pos):\n",
    "    usr_in=input(\"Type replacement string: \")\n",
    "    g_l[pos]=usr_in\n",
    "    return g_l"
   ]
  },
  {
   "cell_type": "code",
   "execution_count": 10,
   "id": "833d255e",
   "metadata": {},
   "outputs": [
    {
     "name": "stdout",
     "output_type": "stream",
     "text": [
      "Type replacement string: 1\n"
     ]
    },
    {
     "data": {
      "text/plain": [
       "[0, '1', 2]"
      ]
     },
     "execution_count": 10,
     "metadata": {},
     "output_type": "execute_result"
    }
   ],
   "source": [
    "replace(game_list,1)"
   ]
  },
  {
   "cell_type": "code",
   "execution_count": 29,
   "id": "5ebd8334",
   "metadata": {},
   "outputs": [],
   "source": [
    "def g_choice():\n",
    "    choice='Wrong'\n",
    "    while choice not in ['Y','N']:\n",
    "        choice=input(\"Keep Playing ? (Y/N) \")\n",
    "        if choice not in ['Y','N']:\n",
    "            print(\"Sry, invalid choice\")\n",
    "    if choice=='Y':\n",
    "        return True\n",
    "    else:\n",
    "        return False"
   ]
  },
  {
   "cell_type": "code",
   "execution_count": 16,
   "id": "afa97d22",
   "metadata": {},
   "outputs": [
    {
     "name": "stdout",
     "output_type": "stream",
     "text": [
      "Keep Playing ? (Y/N) y\n",
      "Sry, invalid choice\n",
      "Keep Playing ? (Y/N) Y\n"
     ]
    },
    {
     "data": {
      "text/plain": [
       "True"
      ]
     },
     "execution_count": 16,
     "metadata": {},
     "output_type": "execute_result"
    }
   ],
   "source": [
    "g_choice()"
   ]
  },
  {
   "cell_type": "code",
   "execution_count": 30,
   "id": "00051bca",
   "metadata": {},
   "outputs": [
    {
     "name": "stdout",
     "output_type": "stream",
     "text": [
      "Current list\n",
      "[0, 1, 2]\n",
      "Enter position index (0,1,2): 1\n",
      "Type replacement string: 1212\n",
      "Current list\n",
      "[0, '1212', 2]\n",
      "Keep Playing ? (Y/N) y\n",
      "Sry, invalid choice\n",
      "Keep Playing ? (Y/N) Y\n",
      "Current list\n",
      "[0, '1212', 2]\n",
      "Enter position index (0,1,2): 2\n",
      "Type replacement string: 23\n",
      "Current list\n",
      "[0, '1212', '23']\n",
      "Keep Playing ? (Y/N) Y\n",
      "Current list\n",
      "[0, '1212', '23']\n",
      "Enter position index (0,1,2): 0\n",
      "Type replacement string: 46\n",
      "Current list\n",
      "['46', '1212', '23']\n",
      "Keep Playing ? (Y/N) Y\n",
      "Current list\n",
      "['46', '1212', '23']\n",
      "Enter position index (0,1,2): 2\n",
      "Type replacement string: 69\n",
      "Current list\n",
      "['46', '1212', '69']\n",
      "Keep Playing ? (Y/N) N\n"
     ]
    }
   ],
   "source": [
    "game_on =True\n",
    "game_list=[0,1,2]\n",
    "while game_on:\n",
    "    display(game_list)\n",
    "    pos=usr_choice()\n",
    "    game_list=replace(game_list,pos)\n",
    "    display(game_list)\n",
    "    game_on=g_choice()"
   ]
  },
  {
   "cell_type": "code",
   "execution_count": 31,
   "id": "6900c4a2",
   "metadata": {},
   "outputs": [
    {
     "name": "stdout",
     "output_type": "stream",
     "text": [
      "Current list\n",
      "['46', '1212', '69']\n"
     ]
    }
   ],
   "source": [
    "display(game_list)"
   ]
  },
  {
   "cell_type": "code",
   "execution_count": null,
   "id": "ce1d43d8",
   "metadata": {},
   "outputs": [],
   "source": []
  }
 ],
 "metadata": {
  "kernelspec": {
   "display_name": "Python 3 (ipykernel)",
   "language": "python",
   "name": "python3"
  },
  "language_info": {
   "codemirror_mode": {
    "name": "ipython",
    "version": 3
   },
   "file_extension": ".py",
   "mimetype": "text/x-python",
   "name": "python",
   "nbconvert_exporter": "python",
   "pygments_lexer": "ipython3",
   "version": "3.11.3"
  }
 },
 "nbformat": 4,
 "nbformat_minor": 5
}
