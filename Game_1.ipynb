{
 "cells": [
  {
   "cell_type": "code",
   "execution_count": 1,
   "id": "e8567673",
   "metadata": {},
   "outputs": [],
   "source": [
    "game_list=[0,1,2]    "
   ]
  },
  {
   "cell_type": "code",
   "execution_count": 2,
   "id": "a5982e82",
   "metadata": {},
   "outputs": [],
   "source": [
    "def display(g_l):\n",
    "    print('Current list')\n",
    "    print(g_l)"
   ]
  },
  {
   "cell_type": "code",
   "execution_count": 3,
   "id": "07af15e8",
   "metadata": {},
   "outputs": [
    {
     "name": "stdout",
     "output_type": "stream",
     "text": [
      "Current list\n",
      "[0, 1, 2]\n"
     ]
    }
   ],
   "source": [
    "display(game_list)"
   ]
  },
  {
   "cell_type": "code",
   "execution_count": 4,
   "id": "de5449f4",
   "metadata": {},
   "outputs": [],
   "source": [
    "def usr_choice():\n",
    "    choice='Wrong'\n",
    "    while choice not in ['0','1','2']:\n",
    "        choice=input(\"Enter position index (0,1,2): \")\n",
    "        if choice not in ['0','1','2']:\n",
    "            print(\"Sry, invalid choice\")\n",
    "    return choice"
   ]
  },
  {
   "cell_type": "code",
   "execution_count": 5,
   "id": "3ac5a4e3",
   "metadata": {},
   "outputs": [
    {
     "name": "stdout",
     "output_type": "stream",
     "text": [
      "Enter position index (0,1,2): 6\n",
      "Sry, invalid choice\n",
      "Enter position index (0,1,2): llool\n",
      "Sry, invalid choice\n",
      "Enter position index (0,1,2): 1\n"
     ]
    },
    {
     "data": {
      "text/plain": [
       "'1'"
      ]
     },
     "execution_count": 5,
     "metadata": {},
     "output_type": "execute_result"
    }
   ],
   "source": [
    "usr_choice()"
   ]
  },
  {
   "cell_type": "code",
   "execution_count": null,
   "id": "d45f5fd0",
   "metadata": {},
   "outputs": [],
   "source": [
    "def replac(g_l,pos):\n",
    "    usr_in"
   ]
  }
 ],
 "metadata": {
  "kernelspec": {
   "display_name": "Python 3 (ipykernel)",
   "language": "python",
   "name": "python3"
  },
  "language_info": {
   "codemirror_mode": {
    "name": "ipython",
    "version": 3
   },
   "file_extension": ".py",
   "mimetype": "text/x-python",
   "name": "python",
   "nbconvert_exporter": "python",
   "pygments_lexer": "ipython3",
   "version": "3.11.3"
  }
 },
 "nbformat": 4,
 "nbformat_minor": 5
}
