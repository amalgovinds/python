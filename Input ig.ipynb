{
 "cells": [
  {
   "cell_type": "code",
   "execution_count": 2,
   "id": "6c0fefe0",
   "metadata": {},
   "outputs": [],
   "source": [
    "def display(row1,row2,row3):\n",
    "    print(row1)\n",
    "    print(row2)\n",
    "    print(row3)"
   ]
  },
  {
   "cell_type": "code",
   "execution_count": 4,
   "id": "9da4067e",
   "metadata": {},
   "outputs": [
    {
     "name": "stdout",
     "output_type": "stream",
     "text": [
      "[' ', ' ', ' ']\n",
      "[' ', ' ', ' ']\n",
      "[' ', ' ', ' ']\n"
     ]
    }
   ],
   "source": [
    "r1=[' ',' ',' ']\n",
    "r2=[' ',' ',' ']\n",
    "r3=[' ',' ',' ']\n",
    "display(r1,r2,r3)"
   ]
  },
  {
   "cell_type": "code",
   "execution_count": 5,
   "id": "c0855ae3",
   "metadata": {},
   "outputs": [],
   "source": [
    "r2[1]='X'"
   ]
  },
  {
   "cell_type": "code",
   "execution_count": 7,
   "id": "36568451",
   "metadata": {},
   "outputs": [
    {
     "name": "stdout",
     "output_type": "stream",
     "text": [
      "[' ', ' ', ' ']\n",
      "[' ', 'X', ' ']\n",
      "[' ', ' ', ' ']\n"
     ]
    }
   ],
   "source": [
    "display(r1,r2,r3)"
   ]
  },
  {
   "cell_type": "code",
   "execution_count": 16,
   "id": "de21356d",
   "metadata": {},
   "outputs": [
    {
     "name": "stdout",
     "output_type": "stream",
     "text": [
      "Pls enter a value: 2\n"
     ]
    },
    {
     "data": {
      "text/plain": [
       "'2'"
      ]
     },
     "execution_count": 16,
     "metadata": {},
     "output_type": "execute_result"
    }
   ],
   "source": [
    "#input always returns a string\n",
    "input('Pls enter a value: ')"
   ]
  },
  {
   "cell_type": "code",
   "execution_count": 10,
   "id": "490f692e",
   "metadata": {},
   "outputs": [
    {
     "name": "stdout",
     "output_type": "stream",
     "text": [
      "Pls enter a value: 23\n"
     ]
    }
   ],
   "source": [
    "res=input('Pls enter a value: ')"
   ]
  },
  {
   "cell_type": "code",
   "execution_count": 13,
   "id": "e432a198",
   "metadata": {},
   "outputs": [
    {
     "data": {
      "text/plain": [
       "str"
      ]
     },
     "execution_count": 13,
     "metadata": {},
     "output_type": "execute_result"
    }
   ],
   "source": [
    "res\n",
    "type(res)"
   ]
  },
  {
   "cell_type": "code",
   "execution_count": 14,
   "id": "36ee72a0",
   "metadata": {},
   "outputs": [],
   "source": [
    "res_int=int(res)"
   ]
  },
  {
   "cell_type": "code",
   "execution_count": 15,
   "id": "b9253d56",
   "metadata": {},
   "outputs": [
    {
     "data": {
      "text/plain": [
       "int"
      ]
     },
     "execution_count": 15,
     "metadata": {},
     "output_type": "execute_result"
    }
   ],
   "source": [
    "type(res_int)"
   ]
  },
  {
   "cell_type": "code",
   "execution_count": 22,
   "id": "cfaae696",
   "metadata": {},
   "outputs": [
    {
     "name": "stdout",
     "output_type": "stream",
     "text": [
      "Enter positon index: 2\n"
     ]
    }
   ],
   "source": [
    "pos_ind=int(input('Enter positon index: '))"
   ]
  },
  {
   "cell_type": "code",
   "execution_count": 23,
   "id": "b580eaf2",
   "metadata": {},
   "outputs": [
    {
     "data": {
      "text/plain": [
       "' '"
      ]
     },
     "execution_count": 23,
     "metadata": {},
     "output_type": "execute_result"
    }
   ],
   "source": [
    "r2[pos_ind]"
   ]
  },
  {
   "cell_type": "code",
   "execution_count": 12,
   "id": "5e491578",
   "metadata": {},
   "outputs": [],
   "source": [
    "def use_choic():\n",
    "    choice='wrong'\n",
    "    while choice.isdigit()==False:\n",
    "        choice=input('Please enter a number(0-10): ')\n",
    "    return int(choice)"
   ]
  },
  {
   "cell_type": "code",
   "execution_count": 13,
   "id": "d3c4f0da",
   "metadata": {},
   "outputs": [
    {
     "name": "stdout",
     "output_type": "stream",
     "text": [
      "Please enter a number(0-10): ar\n",
      "Please enter a number(0-10): 0\n"
     ]
    },
    {
     "data": {
      "text/plain": [
       "0"
      ]
     },
     "execution_count": 13,
     "metadata": {},
     "output_type": "execute_result"
    }
   ],
   "source": [
    "use_choic()"
   ]
  },
  {
   "cell_type": "code",
   "execution_count": 6,
   "id": "7b4c534a",
   "metadata": {},
   "outputs": [
    {
     "name": "stdout",
     "output_type": "stream",
     "text": [
      "Please enter a number(0-10): 9\n"
     ]
    },
    {
     "data": {
      "text/plain": [
       "9"
      ]
     },
     "execution_count": 6,
     "metadata": {},
     "output_type": "execute_result"
    }
   ],
   "source": [
    "use_choic()"
   ]
  },
  {
   "cell_type": "code",
   "execution_count": 7,
   "id": "5c79044f",
   "metadata": {},
   "outputs": [],
   "source": [
    "s_m='100'"
   ]
  },
  {
   "cell_type": "code",
   "execution_count": 9,
   "id": "d3a685d5",
   "metadata": {},
   "outputs": [
    {
     "data": {
      "text/plain": [
       "True"
      ]
     },
     "execution_count": 9,
     "metadata": {},
     "output_type": "execute_result"
    }
   ],
   "source": [
    "#str is digit\n",
    "s_m.isdigit()"
   ]
  },
  {
   "cell_type": "code",
   "execution_count": 20,
   "id": "00c90969",
   "metadata": {},
   "outputs": [],
   "source": [
    "def use_choic():\n",
    "    choice='wrong'\n",
    "    acc_range=range(0,11)\n",
    "    within_range=False;\n",
    "    while choice.isdigit()==False or within_range==False:\n",
    "        choice=input('Please enter a number(0-10): ')\n",
    "        if choice.isdigit() == False:\n",
    "            print(\"Is not a digit\")\n",
    "        else:\n",
    "            within_range=int(choice) in acc_range\n",
    "    return int(choice)"
   ]
  },
  {
   "cell_type": "code",
   "execution_count": 23,
   "id": "bbc2b425",
   "metadata": {},
   "outputs": [
    {
     "name": "stdout",
     "output_type": "stream",
     "text": [
      "Please enter a number(0-10): 10\n"
     ]
    },
    {
     "data": {
      "text/plain": [
       "10"
      ]
     },
     "execution_count": 23,
     "metadata": {},
     "output_type": "execute_result"
    }
   ],
   "source": [
    "use_choic()"
   ]
  },
  {
   "cell_type": "code",
   "execution_count": null,
   "id": "aaebcb22",
   "metadata": {},
   "outputs": [],
   "source": []
  }
 ],
 "metadata": {
  "kernelspec": {
   "display_name": "Python 3 (ipykernel)",
   "language": "python",
   "name": "python3"
  },
  "language_info": {
   "codemirror_mode": {
    "name": "ipython",
    "version": 3
   },
   "file_extension": ".py",
   "mimetype": "text/x-python",
   "name": "python",
   "nbconvert_exporter": "python",
   "pygments_lexer": "ipython3",
   "version": "3.11.3"
  }
 },
 "nbformat": 4,
 "nbformat_minor": 5
}
